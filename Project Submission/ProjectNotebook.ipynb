{
 "cells": [
  {
   "cell_type": "markdown",
   "metadata": {},
   "source": [
    "### Initialization"
   ]
  },
  {
   "cell_type": "code",
   "execution_count": null,
   "metadata": {
    "vscode": {
     "languageId": "plaintext"
    }
   },
   "outputs": [],
   "source": [
    "## Packages to be used \n",
    "\n",
    "# Network Stuff \n",
    "# import networkx as nx\n",
    "# import igraph \n",
    "# import gprofiler \n",
    "\n",
    "# Standard \n",
    "# import pandas as pd \n",
    "# import numpy as np\n",
    "# import scipy as sp\n",
    "# import matplotlib.pyplot as plt\n",
    "# import pickle \n",
    "\n",
    "# %matplotlib inline \n",
    "# font = {'family' : 'DejaVu Sans',\n",
    "#         'weight' : 'bold',\n",
    "#         'size'   : 32}\n",
    "\n",
    "# plt.rc('font', **font)\n",
    "\n",
    "\n",
    "# G = nx.read_weighted_edgelist(\"C:\\\\Users\\\\yuanl\\\\OneDrive\\\\Documents\\\\Professional\\\\Projects\\\\MATH3888 - Biological Modelling\\\\Data\\\\4932.protein.links.v12.0.txt\",comments=\"#\",nodetype=str)"
   ]
  },
  {
   "cell_type": "markdown",
   "metadata": {},
   "source": [
    "### Graph Characteristics"
   ]
  },
  {
   "cell_type": "code",
   "execution_count": null,
   "metadata": {
    "vscode": {
     "languageId": "plaintext"
    }
   },
   "outputs": [],
   "source": [
    "# PUT FUNCTIONS HERE TO DESCRIBE CHARACTERISTICS (Refer to Ed) \n",
    "\n",
    "# Number of nodes\n",
    "# Number of edges \n",
    "# Connectivity Status (Fully or Not) \n",
    "# Degree Distribution \n",
    "# Degree of SGS1 Node \n",
    "# .... "
   ]
  },
  {
   "cell_type": "code",
   "execution_count": null,
   "metadata": {
    "vscode": {
     "languageId": "plaintext"
    }
   },
   "outputs": [],
   "source": [
    "# Output here "
   ]
  },
  {
   "cell_type": "code",
   "execution_count": null,
   "metadata": {
    "vscode": {
     "languageId": "plaintext"
    }
   },
   "outputs": [],
   "source": [
    "# "
   ]
  }
 ],
 "metadata": {
  "language_info": {
   "name": "python"
  }
 },
 "nbformat": 4,
 "nbformat_minor": 2
}
