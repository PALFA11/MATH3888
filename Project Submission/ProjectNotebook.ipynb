{
 "cells": [
  {
   "cell_type": "markdown",
   "metadata": {},
   "source": [
    "### Initialization"
   ]
  },
  {
   "cell_type": "code",
   "execution_count": null,
   "metadata": {
    "vscode": {
     "languageId": "plaintext"
    }
   },
   "outputs": [],
   "source": [
    "## Packages to be used \n",
    "\n",
    "# Network Stuff \n",
    "# import networkx as nx\n",
    "# import igraph \n",
    "# from gprofiler import GProfiler\n",
    "# p = GProfiler(return_dataframe=True)\n",
    "\n",
    "\n",
    "# Standard \n",
    "# import pandas as pd \n",
    "# import numpy as np\n",
    "# import scipy as sp\n",
    "# import matplotlib.pyplot as plt\n",
    "# import pickle \n",
    "\n",
    "# %matplotlib inline \n",
    "# font = {'family' : 'DejaVu Sans',\n",
    "#         'weight' : 'bold',\n",
    "#         'size'   : 32}\n",
    "\n",
    "# plt.rc('font', **font)\n",
    "\n",
    "\n",
    "# G = nx.read_weighted_edgelist(\"C:\\\\Users\\\\yuanl\\\\OneDrive\\\\Documents\\\\Professional\\\\Projects\\\\MATH3888 - Biological Modelling\\\\Data\\\\4932.protein.links.v12.0.txt\",comments=\"#\",nodetype=str)"
   ]
  },
  {
   "cell_type": "code",
   "execution_count": null,
   "metadata": {
    "vscode": {
     "languageId": "plaintext"
    }
   },
   "outputs": [],
   "source": [
    "### Functions to be created/copypasted \n",
    "\n",
    "# def graph_details() \n",
    "    # Number of nodes\n",
    "    # Number of edges \n",
    "    # Connectivity Status (Fully or Not) \n",
    "    # Degree Distribution: PLOTTING \n",
    "    # Degree of SGS1 Node \n",
    "    # .... \n",
    "\n",
    "\n",
    "\n",
    "\n",
    "# def community_partitions(graph, initial_thresh, trials) \n",
    "\n",
    "    # COMMUNITY FINDING ALGOS HERE \n",
    "\n",
    "    # Edge Dropout \n",
    "    # threshold_score = initial_thresh\n",
    "    # for edge in graph.edges: \n",
    "    #     weight = list(graph.get_edge_data(edge[0],edge[1]).values())\n",
    "    #     if(weight[0] < threshold_score):\n",
    "    #         graph.remove_edge(edge[0],edge[1])\n",
    "\n",
    "\n",
    "    # Actual Algorithms \n",
    "\n",
    "\n",
    "\n",
    "    # VERIFICATION STEPS \n",
    "    # Check if there are singletons: WHAT TO DO WITH THESE SINGLETONS? \n",
    "    # Check ????? \n",
    "\n",
    "\n",
    "\n",
    "\n",
    "    # RELEVANT OUTPUTS \n",
    "\n",
    "    # nodeassignment = #SHOULD BE A LIST OR TUPLE WHERE INDEX INDICATES NODES, AND ENTRIES ARE COMMUNITY ASSIGNMENTS \n",
    "    # nodenames  = list(nxgraph.nodes()) #NAMES VECTOR \n",
    "    # commnum = max(value for _, value in enumerate(nodeassignment))+1 #THIS SHOULD WORK IF NODEASSIGNMENT WORKS \n",
    "    # commdict = {} #A DICTIONARY WHOSE KEY IS THE COMMUNITY AND VALUE WILL BE A LIST  OF CLUSTERS IN THAT DICT  \n",
    "\n",
    "\n",
    "    # for i in range(commnum): \n",
    "    # commdict[i] = []\n",
    "    # for nodeint, cluster in enumerate(nodeassignment): \n",
    "    #     nodename = nodenames[nodeint]\n",
    "    #     commdict[cluster].append(nodename) \n",
    "\n",
    "\n",
    "\n",
    "\n",
    "    # return nodenames, nodeassignment, commdict, commnum\n",
    "\n",
    "\n",
    "\n",
    "\n",
    "\n",
    "\n",
    "# def centrality_measures(graph,...)\n",
    "    # Degree\n",
    "    # Betweenness\n",
    "    # Closeness\n",
    "    # Eigenvector \n",
    "    # Katz \n",
    "\n",
    "\n",
    "\n",
    "\n",
    "\n",
    "# def overlapping_algo(PARAMS HERE) #THIS IS OUR MAIN ALGORITHM  \n",
    "    \n",
    "    \n",
    "    # ANCHORS \n",
    "    # Run an initial community finding trial\n",
    "    # Determine anchors \n",
    "\n",
    "\n",
    "    # DRIFTERS\n",
    "    # SGS1connections = [\"YMR190C\", \"YNL088W\", \"YLR234W\", \"YPL024W\", \"YMR167W\"] # These are the important connections that we know SGS1 connects to \n",
    "    # testings = gp.profile( organism=\"scerevisiae\", query=[\"YMR190C\", \"YNL088W\", \"YLR234W\", \"YPL024W\", \"YMR167W\"])\n",
    "\n",
    "\n",
    "    # PATH CONSTRUCTION \n",
    "    # Use profilers to eliminate irrelevant ones\n",
    "    # Calculate ratio and define a ratio as \"good\" such that we consider it an appropriate path to go down\n",
    "    # Determine the path to go down based on ratio which can be considered as edges of a graph\n",
    "    # Repeat Step 5 to continue constructing edges\n",
    "    # If a previously visited community/\"drifter\" or a dead end is reached, choose another path with good ratio to go down or backtrack to previous nodes with appropriate paths\n",
    "    # Explore all appropriate paths???? \n",
    "\n",
    "    return #A FINAL LIST OF THE NODES THAT DENOTE A PATH STARTING FROM SGS1 \n",
    "\n",
    "\n",
    "\n",
    "\n",
    "\n",
    "\n",
    "\n",
    "\n",
    "# def visualization_graph() \n",
    "    # Output the resulting graph: need to get a list? \n",
    "\n"
   ]
  },
  {
   "cell_type": "markdown",
   "metadata": {},
   "source": [
    "### Graph Characteristics"
   ]
  },
  {
   "cell_type": "markdown",
   "metadata": {},
   "source": [
    "### Methodological Approach"
   ]
  },
  {
   "cell_type": "code",
   "execution_count": null,
   "metadata": {
    "vscode": {
     "languageId": "plaintext"
    }
   },
   "outputs": [],
   "source": []
  },
  {
   "cell_type": "markdown",
   "metadata": {},
   "source": [
    "### Conclusions"
   ]
  },
  {
   "cell_type": "code",
   "execution_count": null,
   "metadata": {
    "vscode": {
     "languageId": "plaintext"
    }
   },
   "outputs": [],
   "source": [
    "### Visualization of Graphs \n",
    "\n",
    "## PUT THE VISUALIZATION OUTPUTS HERE "
   ]
  }
 ],
 "metadata": {
  "language_info": {
   "name": "python"
  }
 },
 "nbformat": 4,
 "nbformat_minor": 2
}
