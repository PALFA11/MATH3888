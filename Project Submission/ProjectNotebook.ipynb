{
 "cells": [
  {
   "cell_type": "markdown",
   "metadata": {},
   "source": [
    "### Initialization"
   ]
  },
  {
   "cell_type": "code",
   "execution_count": null,
   "metadata": {
    "vscode": {
     "languageId": "plaintext"
    }
   },
   "outputs": [],
   "source": [
    "## Packages to be used \n",
    "\n",
    "# Network Stuff \n",
    "# import networkx as nx\n",
    "# import igraph \n",
    "# import gprofiler \n",
    "\n",
    "# Standard \n",
    "# import pandas as pd \n",
    "# import numpy as np\n",
    "# import scipy as sp\n",
    "# import matplotlib.pyplot as plt\n",
    "# import pickle \n",
    "\n",
    "# %matplotlib inline \n",
    "# font = {'family' : 'DejaVu Sans',\n",
    "#         'weight' : 'bold',\n",
    "#         'size'   : 32}\n",
    "\n",
    "# plt.rc('font', **font)\n",
    "\n",
    "\n",
    "# G = nx.read_weighted_edgelist(\"C:\\\\Users\\\\yuanl\\\\OneDrive\\\\Documents\\\\Professional\\\\Projects\\\\MATH3888 - Biological Modelling\\\\Data\\\\4932.protein.links.v12.0.txt\",comments=\"#\",nodetype=str)"
   ]
  },
  {
   "cell_type": "markdown",
   "metadata": {},
   "source": [
    "### Graph Characteristics"
   ]
  },
  {
   "cell_type": "code",
   "execution_count": null,
   "metadata": {
    "vscode": {
     "languageId": "plaintext"
    }
   },
   "outputs": [],
   "source": [
    "# PUT FUNCTIONS HERE TO DESCRIBE CHARACTERISTICS (Refer to Ed) \n",
    "\n",
    "# Number of nodes\n",
    "# Number of edges \n",
    "# Connectivity Status (Fully or Not) \n",
    "# Degree Distribution \n",
    "# Degree of SGS1 Node \n",
    "# .... "
   ]
  },
  {
   "cell_type": "markdown",
   "metadata": {},
   "source": [
    "### Methodological Approach"
   ]
  },
  {
   "cell_type": "code",
   "execution_count": null,
   "metadata": {
    "vscode": {
     "languageId": "plaintext"
    }
   },
   "outputs": [],
   "source": [
    "### Functions to be created/copypasted \n",
    "\n",
    "\n",
    "# def community_partitions(graph, initial_thresh, trials) \n",
    "\n",
    "    # Edge droupout \n",
    "    threshold_score = initial_thresh\n",
    "    for edge in graph.edges: \n",
    "        weight = list(graph.get_edge_data(edge[0],edge[1]).values())\n",
    "        if(weight[0] < threshold_score):\n",
    "            graph.remove_edge(edge[0],edge[1])\n",
    "\n",
    "\n",
    "    #PUT ALL THE COMMUNITY FINDING ALGORITHMS FOR TESTING\n",
    "\n",
    "\n",
    "\n",
    "    #DELETE SINGLETONS????? \n",
    "\n",
    "\n",
    "\n",
    "    #COMMUNITY DICTIONARIES \n",
    "    # nodeassignment = #SHOULD BE A LIST OR TUPLE WHERE INDEX INDICATES NODES, AND ENTRIES ARE COMMUNITY ASSIGNMENTS \n",
    "    # nodenames  = list(nxgraph.nodes()) #NAMES VECTOR \n",
    "    # commnum = max(value for _, value in enumerate(nodeassignment))+1 #THIS SHOULD WORK IF NODEASSIGNMENT WORKS \n",
    "    # commdict = {} #A DICTIONARY WHOSE KEY IS THE COMMUNITY AND VALUE WILL BE A LIST  OF CLUSTERS IN THAT DICT  \n",
    "\n",
    "\n",
    "    # for i in range(commnum): \n",
    "    # commdict[i] = []\n",
    "\n",
    "    # for nodeint, cluster in enumerate(nodeassignment): \n",
    "    #     nodename = nodenames[nodeint]\n",
    "    #     commdict[cluster].append(nodename) \n",
    "\n",
    "    # return nodenames, nodeassignment, commdict, commnum\n",
    "\n",
    "\n",
    "# def centrality_measures(graph, )\n",
    "    # Degree\n",
    "    # Betweenness\n",
    "    # Closeness\n",
    "    # Eigenvector \n",
    "    # Katz "
   ]
  },
  {
   "cell_type": "code",
   "execution_count": null,
   "metadata": {
    "vscode": {
     "languageId": "plaintext"
    }
   },
   "outputs": [],
   "source": []
  },
  {
   "cell_type": "markdown",
   "metadata": {},
   "source": [
    "### Conclusions"
   ]
  },
  {
   "cell_type": "code",
   "execution_count": null,
   "metadata": {
    "vscode": {
     "languageId": "plaintext"
    }
   },
   "outputs": [],
   "source": [
    "### Visualization of Graphs "
   ]
  }
 ],
 "metadata": {
  "language_info": {
   "name": "python"
  }
 },
 "nbformat": 4,
 "nbformat_minor": 2
}
