{
 "cells": [
  {
   "cell_type": "code",
   "execution_count": 315,
   "id": "a71423c0-f33b-446b-bdcc-7210274dab1b",
   "metadata": {},
   "outputs": [
    {
     "data": {
      "text/plain": [
       "<networkx.classes.graph.Graph at 0x7f38665f7500>"
      ]
     },
     "execution_count": 315,
     "metadata": {},
     "output_type": "execute_result"
    }
   ],
   "source": [
    "import csv \n",
    "import random \n",
    "import networkx as nx\n",
    "import numpy as np\n",
    "import scipy as sp\n",
    "import matplotlib.pyplot as plt\n",
    "%matplotlib inline \n",
    "font = {'family' : 'DejaVu Sans',\n",
    "        'weight' : 'bold',\n",
    "        'size'   : 32}\n",
    "\n",
    "\n",
    "\n",
    "plt.rc('font', **font) \n",
    "\n",
    "G0 = nx.read_weighted_edgelist(\"/home/achiso/MATH27/4932.protein.links.v12.0.txt\",comments=\"#\",nodetype=str) #Delete the header first or this might not work!\n",
    "G0 "
   ]
  },
  {
   "cell_type": "code",
   "execution_count": 2,
   "id": "d92e6f08-61da-410a-87e4-e5191058dc0e",
   "metadata": {},
   "outputs": [
    {
     "name": "stdout",
     "output_type": "stream",
     "text": [
      "( O v O)b\n"
     ]
    }
   ],
   "source": [
    "threshold_score = 700\n",
    "for edge in G0.edges: \n",
    "    weight = list(G0.get_edge_data(edge[0],edge[1]).values())\n",
    "    if(weight[0] <= threshold_score):\n",
    "        G0.remove_edge(edge[0],edge[1])\n",
    "\n",
    "print(\"( O v O)b\") "
   ]
  },
  {
   "cell_type": "code",
   "execution_count": null,
   "id": "799281df-a1db-4944-b988-c5b7a0666049",
   "metadata": {},
   "outputs": [],
   "source": [
    "#draw   [ PASS ] "
   ]
  },
  {
   "cell_type": "code",
   "execution_count": 3,
   "id": "fd48ab8b-1cae-4b41-8995-02884f53f7c0",
   "metadata": {},
   "outputs": [
    {
     "name": "stdout",
     "output_type": "stream",
     "text": [
      "6538\n",
      "5697\n"
     ]
    }
   ],
   "source": [
    "print(G0.number_of_nodes())\n",
    "largest_cc = max(nx.connected_components(G0) , key=len) \n",
    "Gc = G0.subgraph(largest_cc) \n",
    "print(Gc.number_of_nodes()) "
   ]
  },
  {
   "cell_type": "code",
   "execution_count": null,
   "id": "53bf8b50-ba58-4bf6-823c-9a065bae1775",
   "metadata": {},
   "outputs": [],
   "source": [
    "#draw   [ PASS ] "
   ]
  },
  {
   "cell_type": "code",
   "execution_count": 11,
   "id": "5811311e-f9db-4e3e-a452-9aea538dd650",
   "metadata": {},
   "outputs": [
    {
     "name": "stdout",
     "output_type": "stream",
     "text": [
      "commu # : 334\n",
      "modularity : 0.5368602914379882\n",
      "////////// REMOVAL ///////////\n",
      "\t|G0| : 6538\n",
      "\t|Gc| : 5697\n",
      "\t|G| : 4637\n",
      "new modularity : 0.544733466438132\n"
     ]
    }
   ],
   "source": [
    "commus = nx.community.label_propagation_communities(Gc) \n",
    "print(\"commu # :\" , len(commus))\n",
    "modularity_v1 = nx.community.modularity(Gc , commus) \n",
    "\n",
    "print(\"modularity :\" , modularity_v1) \n",
    "\n",
    "\n",
    "G = nx.Graph(Gc) \n",
    "for i in commus : \n",
    "    if len(i) < 11 : \n",
    "        for ii in i : \n",
    "            G.remove_node(ii) \n",
    "print(\"////////// REMOVAL ///////////\") \n",
    "print(\"\\t|G0| :\" , G0.number_of_nodes()) \n",
    "print(\"\\t|Gc| :\" , Gc.number_of_nodes()) \n",
    "print(\"\\t|G| :\" , G.number_of_nodes()) \n",
    "\n",
    "newer_commus = nx.community.label_propagation_communities(G) \n",
    "modularity_v2 = nx.community.modularity(G , newer_commus) \n",
    "\n",
    "print(\"new modularity :\" , modularity_v2) "
   ]
  },
  {
   "cell_type": "code",
   "execution_count": null,
   "id": "5dc97ba0-605a-4e4d-ae29-b0b790f4ad3d",
   "metadata": {},
   "outputs": [],
   "source": []
  },
  {
   "cell_type": "code",
   "execution_count": null,
   "id": "bbae9d39-432a-4676-828b-d0c33934798b",
   "metadata": {},
   "outputs": [],
   "source": []
  },
  {
   "cell_type": "code",
   "execution_count": null,
   "id": "440a38cb-3018-47fd-a52e-449a692b5c4a",
   "metadata": {},
   "outputs": [],
   "source": []
  },
  {
   "cell_type": "code",
   "execution_count": null,
   "id": "06876095-cb0e-43c9-beb8-1a72cbdb406b",
   "metadata": {},
   "outputs": [],
   "source": []
  },
  {
   "cell_type": "code",
   "execution_count": 372,
   "id": "260d7581-522a-4031-8c67-94fbe5d75e31",
   "metadata": {},
   "outputs": [],
   "source": [
    "def run_many_times(n=101 , G=G) : \n",
    "    run_records = [] \n",
    "    for i in range(n) : \n",
    "        random_number_in_range = random.randint(0 , 2**(64)-1) \n",
    "        rv = nx.community.fast_label_propagation_communities(G , seed=random_number_in_range) \n",
    "        rv_list = [] \n",
    "        \n",
    "        \n",
    "        for ii in rv : \n",
    "            rv_list.append(ii) \n",
    "        #for i in rv_list : \n",
    "        #    print(i) \n",
    "        \n",
    "        run_records.append([rv_list , random_number_in_range]) \n",
    "        \n",
    "        print(\"                    \" , end='\\r') \n",
    "        print(\"( O v O) {\" , i+1 , \")\" , end='\\r') \n",
    "\n",
    "    \n",
    "    return run_records "
   ]
  },
  {
   "cell_type": "code",
   "execution_count": 56,
   "id": "ba7b9b3a-5378-4f9d-aa73-2e50a3f9d544",
   "metadata": {},
   "outputs": [],
   "source": [
    "def cal_rela_counters(runs , G=G) : \n",
    "    rela_c = {} \n",
    "    for i in G : \n",
    "        #rela_c.append( [i , [0]*len(G)] ) \n",
    "        rela_c[i] = [0]*len(G) \n",
    "\n",
    "    \"\"\"   \n",
    "    for i in runs : \n",
    "        for ii in G : \n",
    "            for iii in range(len(i[0])) : #result_i \n",
    "                if ii in i[0][iii] : \n",
    "                    for iiii in i[0][iii] : \n",
    "                        if ii == iiii : \n",
    "                            continue \n",
    "                        #rela_c[ii][1][iiii] += 1 \n",
    "                        rela_c[ii][0] += 1 \n",
    "    \"\"\"\n",
    "    return rela_c "
   ]
  },
  {
   "cell_type": "code",
   "execution_count": 48,
   "id": "cacec28f-feab-46ee-80ed-4dc51ea5f024",
   "metadata": {},
   "outputs": [
    {
     "name": "stdout",
     "output_type": "stream",
     "text": [
      "( O v O) { 101 )    \r"
     ]
    }
   ],
   "source": [
    "run_results = run_many_times(101) "
   ]
  },
  {
   "cell_type": "code",
   "execution_count": 282,
   "id": "bf2bf20b-829f-43e8-94d5-6ee524d23f44",
   "metadata": {},
   "outputs": [],
   "source": [
    "def top_btween_member(Gin , show=0) : \n",
    "    tmp_btweenCentra = nx.betweenness_centrality(Gin) \n",
    "    trig = 0 \n",
    "    recov = \"\" \n",
    "    recoc = -1 \n",
    "    for i in tmp_btweenCentra : \n",
    "        if trig == 0 : \n",
    "            trig = 1 \n",
    "            recov = i \n",
    "            recoc = tmp_btweenCentra[i] \n",
    "            #top_btweens_reco    \n",
    "            continue \n",
    "        if tmp_btweenCentra[i] > recoc : \n",
    "            recov = i \n",
    "            recoc = tmp_btweenCentra[i] \n",
    "    if show : \n",
    "        print(\"[ \" + recov , \"|\" + str(recoc) + \"]\") \n",
    "    return [recov , recoc] "
   ]
  },
  {
   "cell_type": "code",
   "execution_count": 314,
   "id": "f3e31367-e4d1-4157-a003-cbf28a5ecb47",
   "metadata": {},
   "outputs": [],
   "source": [
    "def top_few_btween_member(Gin , lookfor = \"\" , show=0) : \n",
    "    if len(Gin) < 5 : \n",
    "        2/0 \n",
    "    tmp_btweenCentra = nx.betweenness_centrality(Gin) \n",
    "    tmp_L2 = [] \n",
    "    tmp_L1 = [] \n",
    "    \n",
    "    for i in Gin : \n",
    "        tmp_L1.append(tmp_btweenCentra[i]) \n",
    "        tmp_L2.append(i) \n",
    "\n",
    "    tmp_L1, tmp_L2 = zip(*sorted(zip(tmp_L1, tmp_L2)))   ### Thanks to https://stackoverflow.com/questions/9764298/given-parallel-lists-how-can-i-sort-one-while-permuting-rearranging-the-other \n",
    "\n",
    "    if show : \n",
    "        for i in range(5) : \n",
    "            print(\"[ \" + tmp_L2[-(1+i)] , \"|\" + str(tmp_L1[-(1+i)]) + \"]\") \n",
    "    if len(lookfor) > 0 : \n",
    "        if lookfor in tmp_L2 : \n",
    "            for i in tmp_L2 : \n",
    "                if i == lookfor : \n",
    "                    print(\"#\" + str(len(tmp_L2) - tmp_L2.index(lookfor)) , \"\\t\" , lookfor) \n",
    "        else : \n",
    "            print(\"( O _ O) { ??? )\") \n",
    "    return None \n",
    "    return [recov , recoc] "
   ]
  },
  {
   "cell_type": "code",
   "execution_count": 160,
   "id": "1b99f0a0-26fc-4494-8bf8-349ab337167f",
   "metadata": {},
   "outputs": [
    {
     "name": "stdout",
     "output_type": "stream",
     "text": [
      "( O v O) { 22 )     \n",
      "40\n",
      "~~~~~~~~~~~~~~~~~~~~~~~~~~~\n"
     ]
    }
   ],
   "source": [
    "#target_sub = G0.subgraph(arr_2[1]) \n",
    "\n",
    "tmp_list = [] \n",
    "for i in run_results[22][0][29] : \n",
    "    tmp_list.append(i) \n",
    "for i in run_results[22][0][34] : \n",
    "    tmp_list.append(i) \n",
    "sml_G = G.subgraph(tmp_list) \n",
    "\n",
    "run_result = run_many_times(22 , sml_G) \n",
    "print() \n",
    "print(len(sml_G)) \n",
    "\n",
    "\n",
    "\n",
    "run_n21_commus = run_result[21][0] \n",
    "\n",
    "\n",
    "\n",
    "rela_c = {} \n",
    "for i in sml_G : \n",
    "    rela_c[i] = {} \n",
    "    for ii in sml_G : \n",
    "        rela_c[i][ii] = 0 \n",
    "\n",
    "for i in sml_G : \n",
    "    for ii in run_n21_commus : \n",
    "        if i in ii : \n",
    "            for iii in ii : \n",
    "                if i == iii : \n",
    "                    continue \n",
    "                rela_c[i][iii] += 1\n",
    "\n",
    "\n",
    "print(\"~~~~~~~~~~~~~~~~~~~~~~~~~~~\") \n",
    "\n",
    "\n"
   ]
  },
  {
   "cell_type": "code",
   "execution_count": 295,
   "id": "0f3f3573-d471-414b-8ad4-3b51db8931ac",
   "metadata": {},
   "outputs": [
    {
     "name": "stdout",
     "output_type": "stream",
     "text": [
      "~~~~~~~~~~~~~~~~~~~~~~~~~~\n",
      "101/101 RUN\t[ OK ]\n",
      "noFlag\n"
     ]
    }
   ],
   "source": [
    "#4932.YPL049C \n",
    "def tmp_F(runs , in_G=G) :  \n",
    "    rela_c = {} \n",
    "    for i in in_G : \n",
    "        rela_c[i] = {} \n",
    "        for ii in in_G : \n",
    "            rela_c[i][ii] = 0 \n",
    "\n",
    "    tmp_c = 0 \n",
    "    for iiii in runs : \n",
    "        for i in in_G : \n",
    "            for ii in iiii[0] : \n",
    "                if i in ii : \n",
    "                    for iii in ii : \n",
    "                        if i == iii : \n",
    "                            continue \n",
    "                        rela_c[i][iii] += 1 \n",
    "        tmp_c += 1 \n",
    "        print(str(tmp_c) + \"/\" + str(len(runs)) + \" RUN\\t[ OK ]\" , end='\\r') \n",
    "\n",
    "    return rela_c \n",
    "\n",
    "\n",
    "\n",
    "\n",
    "#rela_c = tmp_F(run_result , sml_G) \n",
    "run_result = run_many_times(101 , G) \n",
    "print(\"~~~~~~~~~~~~~~~~~~~~~~~~~~\") \n",
    "rela_counter = tmp_F(run_result , G) \n",
    "\n",
    "\n",
    "\n",
    "#for i in G : \n",
    "#    s = \"\" \n",
    "#    for ii in sml_G : \n",
    "#        s = s + str(rela_c[i][ii]) + \" \" \n",
    "#    print(s) \n",
    "for i in G : \n",
    "    for ii in G : \n",
    "        if not (rela_counter[i][ii] == rela_counter[ii][i]) : \n",
    "            print(\"Flag\") \n",
    "            break \n",
    "print(\"\\nnoFlag\") "
   ]
  },
  {
   "cell_type": "code",
   "execution_count": 433,
   "id": "579cf3ed-6eaa-434d-b151-3f3eda6c5a44",
   "metadata": {},
   "outputs": [
    {
     "name": "stdout",
     "output_type": "stream",
     "text": [
      "599\n",
      "599\n"
     ]
    },
    {
     "data": {
      "text/plain": [
       "[<matplotlib.lines.Line2D at 0x7f3871ac8980>]"
      ]
     },
     "execution_count": 433,
     "metadata": {},
     "output_type": "execute_result"
    },
    {
     "data": {
      "image/png": "[encoded data removed]",
      "text/plain": [
       "<Figure size 640x480 with 1 Axes>"
      ]
     },
     "metadata": {},
     "output_type": "display_data"
    }
   ],
   "source": [
    "# 4932.YMR207C \n",
    "# 4932.YJL052W \n",
    "tmp_reco = [] \n",
    "for i in rela_counter : \n",
    "    tmp_reco.append(i) \n",
    "\n",
    "\n",
    "#for ii in tmp_reco : \n",
    "all_rela_c = [] \n",
    "self_def_commu_pack = [] \n",
    "tmp_tar_node = tmp_reco[1432]        #1432     #1987           #### tmp_reco[3334] \n",
    "for i in rela_counter[tmp_tar_node] : \n",
    "    all_rela_c.append(rela_counter[tmp_tar_node][i]) \n",
    "    if rela_counter[tmp_tar_node][i]/len(run_result) >= 0.95 :       # if overlap 95% of times \n",
    "        self_def_commu_pack.append(i) \n",
    "    elif rela_counter[tmp_tar_node][i]/len(run_result) < 0.95 and 50 <= rela_counter[tmp_tar_node][i]/len(run_result) : # if overlap 50% ~ (95-epsilon)% of times \n",
    "        pass \n",
    "        \n",
    "print(c) \n",
    "print(len(self_def_commu_pack))           # print(\"4932.Q0140\" in self_def_commu_pack) \n",
    "\n",
    "#c = 0 \n",
    "#d = 0 \n",
    "#for i in all_rela_c : \n",
    "#    if i >= 95 : \n",
    "#        c += 1 \n",
    "#    if i < 90 and i >= 50 : \n",
    "#        d += 1 \n",
    "#print(c , d) \n",
    "\n",
    "\n",
    "all_rela_c.sort() \n",
    "plt.plot(range(0,len(all_rela_c)) , all_rela_c) \n",
    "\n",
    "\n",
    "#### for node  A  , "
   ]
  },
  {
   "cell_type": "code",
   "execution_count": 350,
   "id": "e1f4f55f-870f-4180-9255-66777947f2c9",
   "metadata": {},
   "outputs": [
    {
     "data": {
      "text/plain": [
       "[<matplotlib.lines.Line2D at 0x7f3866e67020>]"
      ]
     },
     "execution_count": 350,
     "metadata": {},
     "output_type": "execute_result"
    },
    {
     "data": {
      "image/png": "[encoded data removed]",
      "text/plain": [
       "<Figure size 640x480 with 1 Axes>"
      ]
     },
     "metadata": {},
     "output_type": "display_data"
    }
   ],
   "source": [
    "rela_distri = [0]*(1+max(all_rela_c)) \n",
    "rela_distri_normal = [] \n",
    "for i in all_rela_c : \n",
    "    rela_distri[i] += 1 \n",
    "for i in rela_distri : \n",
    "    rela_distri_normal.append(i/sum(rela_distri)) \n",
    "\n",
    "tmp_x = [] \n",
    "for i in range(len(rela_distri)) : \n",
    "    tmp_x.append(i) \n",
    "\n",
    "plt.plot(tmp_x , rela_distri) \n",
    "\n",
    "#tmp_idx = 0 \n",
    "#for i in rela_distri : \n",
    "#    print(tmp_idx , \":\" , i) \n",
    "#    tmp_idx += 1 \n"
   ]
  },
  {
   "cell_type": "code",
   "execution_count": 293,
   "id": "d8a090a5-7c86-4daf-8a5b-de97dc63691a",
   "metadata": {},
   "outputs": [
    {
     "name": "stdout",
     "output_type": "stream",
     "text": [
      "18\n",
      "291\n"
     ]
    }
   ],
   "source": [
    "tmp_raw_commus = run_result[0][0] \n",
    "\n",
    "tmp_c = 0 \n",
    "for i in tmp_raw_commus : \n",
    "    if \"4932.YMR190C\" in i : \n",
    "        print(tmp_c) \n",
    "        break \n",
    "    tmp_c += 1 \n",
    "\n",
    "print(len(tmp_raw_commus[18])) "
   ]
  },
  {
   "cell_type": "code",
   "execution_count": 317,
   "id": "2b5364ff-4a71-45c6-8226-c2d65c50a459",
   "metadata": {},
   "outputs": [
    {
     "name": "stdout",
     "output_type": "stream",
     "text": [
      "[ 4932.YER095W |0.07774866373382486]\n",
      "[ 4932.YML032C |0.06777401989373975]\n",
      "[ 4932.YMR190C |0.05996976966270192]\n",
      "[ 4932.YHL022C |0.04684310753056763]\n",
      "[ 4932.YBR160W |0.0398670038430141]\n",
      "#3 \t 4932.YMR190C\n"
     ]
    }
   ],
   "source": [
    "\n",
    "tmp_G = G.subgraph(tmp_raw_commus[18]) \n",
    "#print(nx.betweenness_centrality(tmp_G)[\"4932.YMR190C\"]) \n",
    "top_few_btween_member(tmp_G , \"4932.YMR190C\" , 1) "
   ]
  },
  {
   "cell_type": "code",
   "execution_count": null,
   "id": "ec101a7c-bef0-4afe-a2bb-d6ca0656d1c7",
   "metadata": {},
   "outputs": [],
   "source": [
    "for "
   ]
  },
  {
   "cell_type": "code",
   "execution_count": null,
   "id": "f9f8abca-5f45-4275-bfc6-132f837e6c09",
   "metadata": {},
   "outputs": [],
   "source": []
  },
  {
   "cell_type": "code",
   "execution_count": 461,
   "id": "32258efc-ddd6-4fc7-9d23-2d87eb0370b5",
   "metadata": {},
   "outputs": [
    {
     "name": "stdout",
     "output_type": "stream",
     "text": [
      "4637 4637\n",
      "4637 4637\n"
     ]
    },
    {
     "data": {
      "text/plain": [
       "<matplotlib.collections.PathCollection at 0x7f3871ea9430>"
      ]
     },
     "execution_count": 461,
     "metadata": {},
     "output_type": "execute_result"
    },
    {
     "data": {
      "image/png": "[encoded data removed]",
      "text/plain": [
       "<Figure size 640x480 with 1 Axes>"
      ]
     },
     "metadata": {},
     "output_type": "display_data"
    }
   ],
   "source": [
    "\n",
    "\n",
    "# Set a seed for the random number generator so we get the same random numbers each time\n",
    "np.random.seed(20210706)\n",
    "\n",
    "# Create fake x-data\n",
    "#x = np.arange(10)\n",
    "x = [] \n",
    "for i in range(len(all_rela_c)) : \n",
    "    x.append(i) \n",
    "#x = np.array(x) \n",
    "# Create fake y-data\n",
    "a = 4.5\n",
    "b = 0.5\n",
    "c = 50\n",
    "#y = a * np.exp(b * x) + c  # Use the second formulation from above\n",
    "#y = y + np.random.normal(scale=np.sqrt(np.max(y)), size=len(x))  # Add noise\n",
    "y = [] \n",
    "for i in all_rela_c : \n",
    "    y.append(i) \n",
    "\n",
    "xx = [] \n",
    "yy = [] \n",
    "for i in range(len(y)) : \n",
    "    if y[i] != 0 : \n",
    "        xx.append(x[i]) \n",
    "        yy.append(y[i]) \n",
    "\n",
    "xx = np.array(x) \n",
    "yy = np.array(y) \n",
    "\n",
    "print(len(x) , len(y)) \n",
    "print(len(xx) , len(yy)) \n",
    "# Create a plot\n",
    "ax = plt.axes()\n",
    "ax.scatter(x, y)\n",
    "#ax.set_ylim(0, 500)"
   ]
  },
  {
   "cell_type": "code",
   "execution_count": 485,
   "id": "d576fdf0-a449-4244-9e26-317865c1c48d",
   "metadata": {},
   "outputs": [],
   "source": [
    "from scipy.optimize import curve_fit\n",
    "\n",
    "# Fit the function a * np.exp(b * t) + c to x and y\n",
    "popt, pcov = curve_fit(lambda t, a, b, c: a * np.exp(b * t) + c, x, y , p0=[1,0,1] , maxfev=800)"
   ]
  },
  {
   "cell_type": "code",
   "execution_count": 486,
   "id": "108799db-5583-4da3-94f5-fc263a7e4b64",
   "metadata": {},
   "outputs": [
    {
     "name": "stdout",
     "output_type": "stream",
     "text": [
      "[ 1.58760732e+00  9.67650854e-04 -7.28512042e+00]\n"
     ]
    }
   ],
   "source": [
    "a = popt[0]\n",
    "b = popt[1]\n",
    "c = popt[2]\n",
    "print(popt) "
   ]
  },
  {
   "cell_type": "code",
   "execution_count": 487,
   "id": "97fca6cc-ef45-4b66-9680-5d90c74170f8",
   "metadata": {},
   "outputs": [
    {
     "data": {
      "text/plain": [
       "[<matplotlib.lines.Line2D at 0x7f3871e86720>]"
      ]
     },
     "execution_count": 487,
     "metadata": {},
     "output_type": "execute_result"
    },
    {
     "data": {
      "image/png": "[encoded data removed]",
      "text/plain": [
       "<Figure size 640x480 with 1 Axes>"
      ]
     },
     "metadata": {},
     "output_type": "display_data"
    }
   ],
   "source": [
    "# Create the fitted curve\n",
    "x_fitted = np.linspace(np.min(x), np.max(x), 100)\n",
    "y_fitted = a * np.exp(b * x_fitted) + c\n",
    "\n",
    "# Plot\n",
    "ax = plt.axes()\n",
    "ax.scatter(x, y, label='Raw data')\n",
    "ax.plot(x_fitted, y_fitted, 'k')\n",
    "#ax.set_ylim(0, 500)"
   ]
  },
  {
   "cell_type": "code",
   "execution_count": null,
   "id": "07829efe-664f-4721-a7a6-ca709cb8f49c",
   "metadata": {},
   "outputs": [],
   "source": []
  },
  {
   "cell_type": "code",
   "execution_count": null,
   "id": "8e06ac04-76f2-49ca-b59b-3790f6019862",
   "metadata": {},
   "outputs": [],
   "source": []
  },
  {
   "cell_type": "code",
   "execution_count": null,
   "id": "d86a9cd0-69da-47a1-9167-d43562f6cf4d",
   "metadata": {},
   "outputs": [],
   "source": []
  },
  {
   "cell_type": "code",
   "execution_count": null,
   "id": "11881f1c-f628-4147-809b-0a129b162e8c",
   "metadata": {},
   "outputs": [],
   "source": []
  },
  {
   "cell_type": "code",
   "execution_count": null,
   "id": "f00d985a-526c-4d9d-98a1-457a36fa3122",
   "metadata": {},
   "outputs": [],
   "source": []
  },
  {
   "cell_type": "code",
   "execution_count": 454,
   "id": "38a1d917-b7bd-47e0-a684-fda1d09c1923",
   "metadata": {},
   "outputs": [
    {
     "name": "stdout",
     "output_type": "stream",
     "text": [
      "['A', 'B', 'C', 'D']\n",
      "['B', 'C', 'D']\n"
     ]
    }
   ],
   "source": [
    "tmp_l = ['A' , 'B' , 'C' , 'D'] \n",
    "print(tmp_l) \n",
    "tmp_l.remove('A') \n",
    "print(tmp_l) "
   ]
  },
  {
   "cell_type": "code",
   "execution_count": null,
   "id": "eb16cac1-7a70-4150-a067-2fa77420f180",
   "metadata": {},
   "outputs": [],
   "source": [
    "4932.YMR207C\n",
    "4932.YPR002W\n",
    "4932.YML056C\n",
    "4932.YMR213W\n",
    "4932.YHR150W\n",
    "4932.YJL052W\n",
    "4932.YPR022C"
   ]
  }
 ],
 "metadata": {
  "kernelspec": {
   "display_name": "Python 3 (ipykernel)",
   "language": "python",
   "name": "python3"
  },
  "language_info": {
   "codemirror_mode": {
    "name": "ipython",
    "version": 3
   },
   "file_extension": ".py",
   "mimetype": "text/x-python",
   "name": "python",
   "nbconvert_exporter": "python",
   "pygments_lexer": "ipython3",
   "version": "3.12.6"
  }
 },
 "nbformat": 4,
 "nbformat_minor": 5
}
