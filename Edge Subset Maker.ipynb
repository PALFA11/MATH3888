{
 "cells": [
  {
   "cell_type": "code",
   "execution_count": 55,
   "metadata": {},
   "outputs": [],
   "source": [
    "import pandas as pd\n",
    "import networkx as nx\n",
    "import numpy as np\n",
    "import matplotlib.pyplot as plt\n",
    "from networkx.algorithms.community import k_clique_communities\n",
    "import sklearn as sk\n",
    "import random\n",
    "\n",
    "sgs1 =\"4932.YMR190C\""
   ]
  },
  {
   "cell_type": "code",
   "execution_count": 56,
   "metadata": {},
   "outputs": [],
   "source": [
    "def graph_info(G0):\n",
    "    # contains_SGS1 = None\n",
    "    # contains_SGS1 = G0[sgs1] is not None\n",
    "    print(\"Nodes:\", G0.number_of_nodes(), \"Edges:\", G0.number_of_edges(), \"Connected:\", nx.connected.is_connected(G0), \"Subgrahs:\", nx.connected.number_connected_components(G0))#, \"Contains SGS1:\", contains_SGS1, \"SGS1 degree:\", G0.degree(sgs1))"
   ]
  },
  {
   "cell_type": "code",
   "execution_count": 61,
   "metadata": {},
   "outputs": [],
   "source": [
    "def create_random_edge_subsets(G, N,threshhold_val = 500, edge_removal_fraction=0.75):\n",
    "\n",
    "    # if edge weight is less than thresh remove edge\n",
    "    for edge in G.edges():\n",
    "        weight = list(G.get_edge_data(edge[0],edge[1]).values())\n",
    "        if(weight[0]<= threshhold_val):\n",
    "            G.remove_edge(edge[0],edge[1])\n",
    "    \n",
    "    subsets = []\n",
    "    for _ in range(N):\n",
    "        # copy of G to make a subset from\n",
    "        H = G.copy()\n",
    "        \n",
    "        # number of edges to remove\n",
    "        num_edges_to_remove = int(edge_removal_fraction * G.number_of_edges())\n",
    "        \n",
    "        # random selection of edges to remove\n",
    "        edges = list(G.edges())\n",
    "        edges_to_remove = random.sample(edges, num_edges_to_remove)\n",
    "        \n",
    "        # remove edges from H\n",
    "        H.remove_edges_from(edges_to_remove)\n",
    "\n",
    "        H = H.subgraph(max(nx.connected_components(H),key=len))\n",
    "        \n",
    "        subsets.append(H)\n",
    "    \n",
    "    return subsets"
   ]
  },
  {
   "cell_type": "code",
   "execution_count": 62,
   "metadata": {},
   "outputs": [
    {
     "name": "stdout",
     "output_type": "stream",
     "text": [
      "Nodes: 6538 Edges: 1412421 Connected: True Subgrahs: 1\n"
     ]
    }
   ],
   "source": [
    "G0 = nx.read_weighted_edgelist(\"4932.protein.links.v12.0.txt\", comments=\"#\", nodetype=str)\n",
    "graph_info(G0)"
   ]
  },
  {
   "cell_type": "code",
   "execution_count": 117,
   "metadata": {},
   "outputs": [],
   "source": [
    "subsets = create_random_edge_subsets(G0,20,threshhold_val=500, edge_removal_fraction=0.75)"
   ]
  },
  {
   "cell_type": "code",
   "execution_count": 118,
   "metadata": {},
   "outputs": [
    {
     "name": "stdout",
     "output_type": "stream",
     "text": [
      "Nodes: 3243 Edges: 12828 Connected: True Subgrahs: 1\n",
      "Nodes: 3225 Edges: 12795 Connected: True Subgrahs: 1\n",
      "Nodes: 3200 Edges: 12808 Connected: True Subgrahs: 1\n",
      "Nodes: 3266 Edges: 12847 Connected: True Subgrahs: 1\n",
      "Nodes: 3225 Edges: 12846 Connected: True Subgrahs: 1\n",
      "Nodes: 3203 Edges: 12782 Connected: True Subgrahs: 1\n",
      "Nodes: 3184 Edges: 12778 Connected: True Subgrahs: 1\n",
      "Nodes: 3258 Edges: 12844 Connected: True Subgrahs: 1\n",
      "Nodes: 3214 Edges: 12822 Connected: True Subgrahs: 1\n",
      "Nodes: 3244 Edges: 12797 Connected: True Subgrahs: 1\n",
      "Nodes: 3157 Edges: 12777 Connected: True Subgrahs: 1\n",
      "Nodes: 3220 Edges: 12826 Connected: True Subgrahs: 1\n",
      "Nodes: 3267 Edges: 12840 Connected: True Subgrahs: 1\n",
      "Nodes: 3236 Edges: 12807 Connected: True Subgrahs: 1\n",
      "Nodes: 3202 Edges: 12761 Connected: True Subgrahs: 1\n",
      "Nodes: 3182 Edges: 12801 Connected: True Subgrahs: 1\n",
      "Nodes: 3233 Edges: 12881 Connected: True Subgrahs: 1\n",
      "Nodes: 3244 Edges: 12787 Connected: True Subgrahs: 1\n",
      "Nodes: 3246 Edges: 12831 Connected: True Subgrahs: 1\n",
      "Nodes: 3165 Edges: 12806 Connected: True Subgrahs: 1\n"
     ]
    }
   ],
   "source": [
    "for subset in subsets:\n",
    "    graph_info(subset)"
   ]
  }
 ],
 "metadata": {
  "kernelspec": {
   "display_name": "Python 3",
   "language": "python",
   "name": "python3"
  },
  "language_info": {
   "codemirror_mode": {
    "name": "ipython",
    "version": 3
   },
   "file_extension": ".py",
   "mimetype": "text/x-python",
   "name": "python",
   "nbconvert_exporter": "python",
   "pygments_lexer": "ipython3",
   "version": "3.10.11"
  }
 },
 "nbformat": 4,
 "nbformat_minor": 2
}
