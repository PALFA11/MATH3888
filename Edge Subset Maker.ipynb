{
 "cells": [
  {
   "cell_type": "code",
   "execution_count": 13,
   "metadata": {},
   "outputs": [],
   "source": [
    "import pandas as pd\n",
    "import networkx as nx\n",
    "import numpy as np\n",
    "import matplotlib.pyplot as plt\n",
    "from networkx.algorithms.community import k_clique_communities\n",
    "import sklearn as sk\n",
    "import random\n",
    "\n",
    "sgs1 =\"4932.YMR190C\""
   ]
  },
  {
   "cell_type": "code",
   "execution_count": 14,
   "metadata": {},
   "outputs": [],
   "source": [
    "def graph_info(G0):\n",
    "    # contains_SGS1 = None\n",
    "    # contains_SGS1 = G0[sgs1] is not None\n",
    "    print(\"Nodes:\", G0.number_of_nodes(), \"Edges:\", G0.number_of_edges(), \"Connected:\", nx.connected.is_connected(G0), \"Subgrahs:\", nx.connected.number_connected_components(G0))#, \"Contains SGS1:\", contains_SGS1, \"SGS1 degree:\", G0.degree(sgs1))"
   ]
  },
  {
   "cell_type": "code",
   "execution_count": 15,
   "metadata": {},
   "outputs": [],
   "source": [
    "def random_sample_subsets(G, N,threshold_val = 500, edge_removal_fraction=0.75):\n",
    "\n",
    "    # if edge weight is less than thresh remove edge\n",
    "    for edge in G.edges():\n",
    "        weight = list(G.get_edge_data(edge[0],edge[1]).values())\n",
    "        if(weight[0]<= threshold_val):\n",
    "            G.remove_edge(edge[0],edge[1])\n",
    "    \n",
    "    subsets = []\n",
    "    for _ in range(N):\n",
    "        # copy of G to make a subset from\n",
    "        H = G.copy()\n",
    "        \n",
    "        # number of edges to remove\n",
    "        num_edges_to_remove = int(edge_removal_fraction * G.number_of_edges())\n",
    "        \n",
    "        # random selection of edges to remove\n",
    "        edges = list(G.edges())\n",
    "        edges_to_remove = random.sample(edges, num_edges_to_remove)\n",
    "        \n",
    "        # remove edges from H\n",
    "        H.remove_edges_from(edges_to_remove)\n",
    "\n",
    "        H = H.subgraph(max(nx.connected_components(H),key=len))\n",
    "        \n",
    "        subsets.append(H)\n",
    "    \n",
    "    return subsets\n",
    "\n",
    "def evenly_split_from_tot_subsets(G, N, threshold_val=500):\n",
    "    # if edge weight is less than thresh remove edge\n",
    "    for edge in list(G.edges()):\n",
    "        weight = list(G.get_edge_data(edge[0], edge[1]).values())\n",
    "        if weight[0] <= threshold_val:\n",
    "            G.remove_edge(edge[0], edge[1])\n",
    "\n",
    "    # all edges in G\n",
    "    all_edges = list(G.edges())\n",
    "\n",
    "    # random ordering of edges\n",
    "    random.shuffle(all_edges)\n",
    "\n",
    "    # split into N subsets\n",
    "    edge_subsets = [all_edges[i::N] for i in range(N)]\n",
    "\n",
    "    # make subsets\n",
    "    subsets = []\n",
    "    for edges in edge_subsets:\n",
    "        # add edges to new graph\n",
    "        H = nx.Graph()\n",
    "        H.add_edges_from(edges)\n",
    "\n",
    "        # add all nodes into new graph\n",
    "        H.add_nodes_from(G.nodes())\n",
    "\n",
    "        # grab largest subgraph\n",
    "        H = H.subgraph(max(nx.connected_components(H), key=len))\n",
    "\n",
    "        subsets.append(H)\n",
    "\n",
    "    return subsets"
   ]
  },
  {
   "cell_type": "code",
   "execution_count": 16,
   "metadata": {},
   "outputs": [
    {
     "name": "stdout",
     "output_type": "stream",
     "text": [
      "Nodes: 6538 Edges: 1412421 Connected: True Subgrahs: 1\n"
     ]
    }
   ],
   "source": [
    "G0 = nx.read_weighted_edgelist(\"4932.protein.links.v12.0.txt\", comments=\"#\", nodetype=str)\n",
    "graph_info(G0)"
   ]
  },
  {
   "cell_type": "markdown",
   "metadata": {},
   "source": [
    "Option 1: randomly grab some fraction of edges and then make N new graphs from that"
   ]
  },
  {
   "cell_type": "code",
   "execution_count": 17,
   "metadata": {},
   "outputs": [],
   "source": [
    "subsets = random_sample_subsets(G0,20,threshold_val=500, edge_removal_fraction=0.75)"
   ]
  },
  {
   "cell_type": "code",
   "execution_count": 18,
   "metadata": {},
   "outputs": [
    {
     "name": "stdout",
     "output_type": "stream",
     "text": [
      "Nodes: 5861 Edges: 47409 Connected: True Subgrahs: 1\n",
      "Nodes: 5850 Edges: 47401 Connected: True Subgrahs: 1\n",
      "Nodes: 5835 Edges: 47401 Connected: True Subgrahs: 1\n",
      "Nodes: 5850 Edges: 47402 Connected: True Subgrahs: 1\n",
      "Nodes: 5855 Edges: 47411 Connected: True Subgrahs: 1\n",
      "Nodes: 5837 Edges: 47412 Connected: True Subgrahs: 1\n",
      "Nodes: 5858 Edges: 47403 Connected: True Subgrahs: 1\n",
      "Nodes: 5847 Edges: 47405 Connected: True Subgrahs: 1\n",
      "Nodes: 5836 Edges: 47409 Connected: True Subgrahs: 1\n",
      "Nodes: 5806 Edges: 47400 Connected: True Subgrahs: 1\n",
      "Nodes: 5841 Edges: 47408 Connected: True Subgrahs: 1\n",
      "Nodes: 5837 Edges: 47409 Connected: True Subgrahs: 1\n",
      "Nodes: 5844 Edges: 47396 Connected: True Subgrahs: 1\n",
      "Nodes: 5867 Edges: 47406 Connected: True Subgrahs: 1\n",
      "Nodes: 5829 Edges: 47404 Connected: True Subgrahs: 1\n",
      "Nodes: 5846 Edges: 47400 Connected: True Subgrahs: 1\n",
      "Nodes: 5830 Edges: 47406 Connected: True Subgrahs: 1\n",
      "Nodes: 5854 Edges: 47410 Connected: True Subgrahs: 1\n",
      "Nodes: 5854 Edges: 47404 Connected: True Subgrahs: 1\n",
      "Nodes: 5854 Edges: 47407 Connected: True Subgrahs: 1\n"
     ]
    }
   ],
   "source": [
    "for subset in subsets:\n",
    "    graph_info(subset)"
   ]
  },
  {
   "cell_type": "markdown",
   "metadata": {},
   "source": [
    "Option 2: take all the edges split them evenly into N subsets, no duplicates"
   ]
  },
  {
   "cell_type": "code",
   "execution_count": 19,
   "metadata": {},
   "outputs": [],
   "source": [
    "subsets = evenly_split_from_tot_subsets(G0,20,threshold_val=500)"
   ]
  },
  {
   "cell_type": "code",
   "execution_count": 20,
   "metadata": {},
   "outputs": [
    {
     "name": "stdout",
     "output_type": "stream",
     "text": [
      "Nodes: 3960 Edges: 9217 Connected: True Subgrahs: 1\n",
      "Nodes: 4022 Edges: 9222 Connected: True Subgrahs: 1\n",
      "Nodes: 4013 Edges: 9196 Connected: True Subgrahs: 1\n",
      "Nodes: 4032 Edges: 9193 Connected: True Subgrahs: 1\n",
      "Nodes: 3988 Edges: 9208 Connected: True Subgrahs: 1\n",
      "Nodes: 3987 Edges: 9183 Connected: True Subgrahs: 1\n",
      "Nodes: 4037 Edges: 9235 Connected: True Subgrahs: 1\n",
      "Nodes: 4033 Edges: 9235 Connected: True Subgrahs: 1\n",
      "Nodes: 3990 Edges: 9201 Connected: True Subgrahs: 1\n",
      "Nodes: 3906 Edges: 9201 Connected: True Subgrahs: 1\n",
      "Nodes: 4024 Edges: 9231 Connected: True Subgrahs: 1\n",
      "Nodes: 4038 Edges: 9208 Connected: True Subgrahs: 1\n",
      "Nodes: 4016 Edges: 9200 Connected: True Subgrahs: 1\n",
      "Nodes: 3933 Edges: 9078 Connected: True Subgrahs: 1\n",
      "Nodes: 4018 Edges: 9177 Connected: True Subgrahs: 1\n",
      "Nodes: 4048 Edges: 9188 Connected: True Subgrahs: 1\n",
      "Nodes: 4134 Edges: 9258 Connected: True Subgrahs: 1\n",
      "Nodes: 4088 Edges: 9285 Connected: True Subgrahs: 1\n",
      "Nodes: 4002 Edges: 9246 Connected: True Subgrahs: 1\n",
      "Nodes: 4091 Edges: 9252 Connected: True Subgrahs: 1\n"
     ]
    }
   ],
   "source": [
    "for subset in subsets:\n",
    "    graph_info(subset)"
   ]
  }
 ],
 "metadata": {
  "kernelspec": {
   "display_name": "Python 3",
   "language": "python",
   "name": "python3"
  },
  "language_info": {
   "codemirror_mode": {
    "name": "ipython",
    "version": 3
   },
   "file_extension": ".py",
   "mimetype": "text/x-python",
   "name": "python",
   "nbconvert_exporter": "python",
   "pygments_lexer": "ipython3",
   "version": "3.10.11"
  }
 },
 "nbformat": 4,
 "nbformat_minor": 2
}
